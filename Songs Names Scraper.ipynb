{
 "cells": [
  {
   "cell_type": "code",
   "execution_count": 7,
   "metadata": {},
   "outputs": [],
   "source": [
    "from urllib.request import urlopen\n",
    "from bs4 import BeautifulSoup\n",
    "from time import sleep\n",
    "import csv"
   ]
  },
  {
   "cell_type": "code",
   "execution_count": 2,
   "metadata": {},
   "outputs": [],
   "source": [
    "# url to scrape the songs list from\n",
    "base_url = \"http://www.song-list.net/{}/songs\"\n",
    "\n",
    "# artists list whose songs list is to be made\n",
    "artists = [\"edsheeran\", \"eminem\", \"taylorswift\", \"linkinpark\", \"drake-2\"]\n",
    "\n",
    "songs_dict = { }    "
   ]
  },
  {
   "cell_type": "code",
   "execution_count": 3,
   "metadata": {},
   "outputs": [
    {
     "name": "stdout",
     "output_type": "stream",
     "text": [
      "Going to url :  http://www.song-list.net/edsheeran/songs\n",
      "Artist :  edsheeran\n",
      "['Afire Love \\n\\t\\t\\t\\t ( 3 )', 'All Of The Stars', 'Barcelona', 'Be Like You', 'Bibia Be Ye Ye']\n",
      "Going to url :  http://www.song-list.net/eminem/songs\n",
      "Artist :  eminem\n",
      "[\"'97 Bonnie & Clyde\", \"'Till I Collapse \\n\\t\\t\\t\\t ( 2 )\", '25 TO LIFE', '3 A.M. \\n\\t\\t\\t\\t ( 2 )', 'A** Like That']\n",
      "Going to url :  http://www.song-list.net/taylorswift/songs\n",
      "Artist :  taylorswift\n",
      "['22', 'A Place in This World', 'All Too Well', 'All You Had To Do Was Stay', 'Back to December \\n\\t\\t\\t\\t ( 3 )']\n",
      "Going to url :  http://www.song-list.net/linkinpark/songs\n",
      "Artist :  linkinpark\n",
      "['1stp Klosr - Jonathan Davis Humble Brothers', 'A LIGHT THAT NEVER COMES', 'A LIGHT THAT NEVER COMES (Rick Rubin Reboot)', 'A Line In The Sand', 'A Place for My Head']\n",
      "Going to url :  http://www.song-list.net/drake-2/songs\n",
      "Artist :  drake-2\n",
      "['10 Bands', '305 To My City ft. Detail', '4422 ft. Sampha', '6 God', '6 Man']\n"
     ]
    }
   ],
   "source": [
    "\n",
    "for artist in artists:\n",
    "    \n",
    "    artist_url = base_url.format(artist)\n",
    "    print(\"Going to url : \", artist_url)\n",
    "    \n",
    "    html_page = urlopen(artist_url)\n",
    "    soup = BeautifulSoup(html_page, 'html.parser')\n",
    "    \n",
    "    songs_list = soup.find('table', attrs={'class':'songs'}).find_all('td', attrs={'id':'songname'})\n",
    "    \n",
    "    songs_dict[artist] = []\n",
    "    \n",
    "    for song in songs_list:\n",
    "        song_name = song.text.strip()\n",
    "        songs_dict[artist].append(song_name)\n",
    "        \n",
    "    print(\"Artist : \", artist)\n",
    "    print(songs_dict[artist][:5])\n",
    "        \n",
    "    sleep(10)\n"
   ]
  },
  {
   "cell_type": "code",
   "execution_count": 6,
   "metadata": {},
   "outputs": [
    {
     "name": "stdout",
     "output_type": "stream",
     "text": [
      "edsheeran 70\n",
      "eminem 190\n",
      "taylorswift 91\n",
      "linkinpark 132\n",
      "drake-2 94\n"
     ]
    }
   ],
   "source": [
    "\n",
    "for key,val in songs_dict.items():\n",
    "    print(key,len(val))\n"
   ]
  },
  {
   "cell_type": "code",
   "execution_count": 11,
   "metadata": {},
   "outputs": [],
   "source": [
    "import json\n",
    "json_file = \"Artists-Songs Mapping.json\"\n",
    "with open(json_file, 'w') as file:\n",
    "    json.dump(songs_dict, file)\n"
   ]
  },
  {
   "cell_type": "code",
   "execution_count": 12,
   "metadata": {},
   "outputs": [
    {
     "name": "stdout",
     "output_type": "stream",
     "text": [
      "{'edsheeran': ['Afire Love \\n\\t\\t\\t\\t ( 3 )', 'All Of The Stars', 'Barcelona', 'Be Like You', 'Bibia Be Ye Ye', 'Bloodstream \\n\\t\\t\\t\\t ( 3 )', 'Castle on the Hill', 'Cold Coffee', 'Dive', \"Don't \\n\\t\\t\\t\\t ( 3 )\", \"Don't Go Breaking My Heart\", 'Drown Me Out (+ Ghetts)', 'Drunk \\n\\t\\t\\t\\t ( 2 )', 'English Rose', 'Eraser', 'Fall \\n\\t\\t\\t\\t ( 3 )', 'Family (+ P Money)', 'Fire Alarms', 'Firefly \\n\\t\\t\\t\\t ( 2 )', 'Galway Girl', 'Give Me Love', 'Goodbye To You (+ Dot Rotten)', 'Grade 8', 'Happier', \"Hearts Don't Break Around Here\", 'Homeless \\n\\t\\t\\t\\t ( 3 )', 'How Would You Feel (Paean)', 'I See Fire \\n\\t\\t\\t\\t ( 2 )', \"I'm A Mess \\n\\t\\t\\t\\t ( 3 )\", 'Kiss Me', 'Lately ( Devlin)', 'Lay It All On Me', 'Lego House \\n\\t\\t\\t\\t ( 2 )', 'Let It Out', 'Little Bird', 'Little Lady (+ Mikill Pane)', 'Nancy Mulligan', 'New Man', 'New York', 'Nightmares (+ Random Impulse + Sway + Wretch 32)', 'Nina \\n\\t\\t\\t\\t ( 2 )', 'One \\n\\t\\t\\t\\t ( 2 )', 'One Night', 'Perfect', 'Photograph \\n\\t\\t\\t\\t ( 3 )', 'Radio', 'Runaway \\n\\t\\t\\t\\t ( 2 )', 'Save Myself', 'Shape of You', 'She', 'Sing \\n\\t\\t\\t\\t ( 3 )', 'Small Bump', 'So', 'Sofa', 'Sunburn', 'Supermarket Flowers', 'Take It Back / Superstition', 'Tenerife Sea \\n\\t\\t\\t\\t ( 3 )', 'The A Team \\n\\t\\t\\t\\t ( 4 )', 'The City \\n\\t\\t\\t\\t ( 5 )', 'The Man \\n\\t\\t\\t\\t ( 2 )', 'Thinking Out Loud \\n\\t\\t\\t\\t ( 3 )', 'This', 'Touch and Go', 'U.N.I.', 'Wake Me Up \\n\\t\\t\\t\\t ( 3 )', 'What Do I Know?', 'Where We Land', 'You (+Wiley)', \"You Need Me I Don't Need You \\n\\t\\t\\t\\t ( 5 )\"], 'eminem': [\"'97 Bonnie & Clyde\", \"'Till I Collapse \\n\\t\\t\\t\\t ( 2 )\", '25 TO LIFE', '3 A.M. \\n\\t\\t\\t\\t ( 2 )', 'A** Like That', 'ALMOST FAMOUS', 'Amityville \\n\\t\\t\\t\\t ( 2 )', 'As The World Turns', 'Asshole (Ft. Skylar Grey)', 'B***** Please II', 'Baby', 'Bad Guy', 'Bad Meets Evil', 'Bagpipes from Baghdad \\n\\t\\t\\t\\t ( 2 )', 'Beautiful \\n\\t\\t\\t\\t ( 2 )', 'Beautiful Pain (Ft. Sia)', 'Berzerk', 'Big Weenie', 'Bitch Please II \\n\\t\\t\\t\\t ( 2 )', 'Brain Damage', 'Brainless', 'Buffalo Bill', 'Business \\n\\t\\t\\t\\t ( 2 )', 'By My Side', 'Call Me Slim', 'CINDERELLA MAN', \"Cleanin' out My Closet \\n\\t\\t\\t\\t ( 4 )\", 'COLD WIND BLOWS', 'Crack a Bottle \\n\\t\\t\\t\\t ( 2 )', 'Crazy In Love', 'Criminal \\n\\t\\t\\t\\t ( 2 )', 'Cry Now', 'Cum On Everybody', 'Curtains Close', 'Curtains Close (Skit)', 'Curtains Up \\n\\t\\t\\t\\t ( 2 )', 'Curtains Up (Skit)', 'Darkness And Illumination', 'DÃ©jÃ\\xa0 Vu \\n\\t\\t\\t\\t ( 2 )', 'Desperation (Ft. Jamie N Commons)', 'Detroit Rap City', 'Dr. West (Skit) \\n\\t\\t\\t\\t ( 2 )', 'Drips \\n\\t\\t\\t\\t ( 2 )', 'Drop The Bomb On', 'Drug Ballad \\n\\t\\t\\t\\t ( 2 )', 'Elevator', 'Em Calls Paul (Skit)', 'Encore Feat. Dr. Dre & 50 Cent', 'Everything Is Shady', 'Evil Deeds', 'Evil Twin', 'Fack', 'Final Thought (Skit)', 'Forever', 'Forgot About Dre', 'Get Low', 'GOING THROUGH CHANGES', 'Groundhog Day', 'Guilty Conscience - Dr. Dre Eminem \\n\\t\\t\\t\\t ( 3 )', \"Hailie's Song \\n\\t\\t\\t\\t ( 2 )\", 'He Got Game', 'Headlights (Ft. Nate Ruess)', 'Hell Breaks Loose', 'Hello \\n\\t\\t\\t\\t ( 2 )', \"I'm Back \\n\\t\\t\\t\\t ( 2 )\", \"I'm Shady\", 'If I Had', 'Insane \\n\\t\\t\\t\\t ( 2 )', 'Intro', 'Jimmy Crack Corn', \"Just Don't Give A Fuck\", 'Just Lose It \\n\\t\\t\\t\\t ( 3 )', 'Ken Kaniff (Skit) \\n\\t\\t\\t\\t ( 3 )', 'Kill You \\n\\t\\t\\t\\t ( 2 )', 'Kim \\n\\t\\t\\t\\t ( 2 )', 'Legacy', 'Like Toy Soldiers \\n\\t\\t\\t\\t ( 3 )', 'Lose Yourself \\n\\t\\t\\t\\t ( 2 )', 'Lounge', 'Love Game (Ft. Kendrick Lamar)', 'LOVE THE WAY YOU LIE', 'Love You More', 'Marshall Mathers \\n\\t\\t\\t\\t ( 2 )', 'Medicine Ball \\n\\t\\t\\t\\t ( 2 )', 'Mockingbird \\n\\t\\t\\t\\t ( 3 )', 'Mosh', 'Mr. Mathers (Skit) \\n\\t\\t\\t\\t ( 2 )', 'Murder', 'Music Box', 'Must Be the Ganja \\n\\t\\t\\t\\t ( 2 )', 'My 1st Single', \"My Dad's Gone Crazy \\n\\t\\t\\t\\t ( 2 )\", 'My Fault', 'My Mom \\n\\t\\t\\t\\t ( 2 )', 'My Name Is \\n\\t\\t\\t\\t ( 3 )', 'Never Enough Feat. 50 Cent & Nate Dogg', 'No Apologies', 'NO LOVE', 'NOT AFRAID', \"Old Time's Sake \\n\\t\\t\\t\\t ( 2 )\", 'ON FIRE', 'One Shot 2 Shot Feat. D-12', 'Parking Lot (skit)', 'Paul (Skit) \\n\\t\\t\\t\\t ( 6 )', 'Paul Rosenberg', 'Paul Rosenberg (Skit)', 'Pistol Pistol', 'Please Stand Up', 'PSA 2000', 'Public Enemy #1', 'Public Service Announcement', 'Public Service Announcement 2000', 'Puke', 'Rain Man', 'Rap God', 'Real Slim Shady \\n\\t\\t\\t\\t ( 4 )', 'Remember Me \\n\\t\\t\\t\\t ( 2 )', 'Rhyme Or Reason', 'Ricky Ticky Toc', 'Rock Bottom', 'Role Model', 'Same Song & Dance \\n\\t\\t\\t\\t ( 2 )', 'Say Goodbye Hollywood \\n\\t\\t\\t\\t ( 2 )', 'Say What You Say \\n\\t\\t\\t\\t ( 2 )', 'SEDUCTION', 'Shady Narcotics', 'Shake That', 'Shake That - Nate Dogg Eminem \\n\\t\\t\\t\\t ( 2 )', 'Sing for the Moment \\n\\t\\t\\t\\t ( 4 )', 'Ski Mask Way', 'Smack That', 'SO BAD', 'So Far...', 'So Much Better', 'Soap', 'Soldier \\n\\t\\t\\t\\t ( 2 )', 'SPACE BOUND', 'Spend Some Time Feat. Obie Trice Stat Quo & 50 Cent', 'Square Dance \\n\\t\\t\\t\\t ( 2 )', 'Stan', 'Stan - Dido Eminem \\n\\t\\t\\t\\t ( 3 )', 'Stan [Live][*] - Eminem Elton John \\n\\t\\t\\t\\t ( 2 )', 'Stay Wide Awake \\n\\t\\t\\t\\t ( 2 )', 'Steve Berman \\n\\t\\t\\t\\t ( 3 )', 'Steve Berman (Skit) \\n\\t\\t\\t\\t ( 3 )', \"Still Don't Give A Fuck\", 'Stronger Than I Was', 'Superman \\n\\t\\t\\t\\t ( 2 )', 'Survival', 'Taking My Ball', \"TALKIN' 2 MYSELF\", \"Talkin' All That\", 'The Hip Hop Genesis', 'The Kiss', 'The Kiss (Skit)', 'The Mis-Education Of Marshall Mathers', 'The Monster (Ft. Rihanna)', 'The Re-Up', 'The Rebel Cry', 'The Young Marshall', 'There He Is', 'Tonya', 'Tonya (Skit)', 'Trapped', \"Tryin' Ta Win\", 'Under The Influence \\n\\t\\t\\t\\t ( 2 )', 'Underground', 'Underground/Ken Kaniff', 'UNTITLED', 'W.T.P.', 'Way I Am \\n\\t\\t\\t\\t ( 4 )', 'We As Americans', 'We Made You \\n\\t\\t\\t\\t ( 2 )', 'We Made You (Enhanced Video)', 'We Made You (Instrumental Version)', 'We Made You (Main Version)', 'We Made You (Super Clean Version)', 'We Ride for Shady', \"We're Back\", 'Whatever You Want', \"When I'm Gone \\n\\t\\t\\t\\t ( 2 )\", 'When the Music Stops \\n\\t\\t\\t\\t ( 2 )', 'White America \\n\\t\\t\\t\\t ( 2 )', 'Who Knew \\n\\t\\t\\t\\t ( 2 )', 'Wicked Ways', 'Without Me \\n\\t\\t\\t\\t ( 4 )', \"WON'T BACK DOWN\", 'Yellow Brick Road', \"You Don't Know\", \"YOU'RE NEVER OVER\"], 'taylorswift': ['22', 'A Place in This World', 'All Too Well', 'All You Had To Do Was Stay', 'Back to December \\n\\t\\t\\t\\t ( 3 )', 'Bad Blood', 'Begin Again', 'Bette Davis Eyes', 'Better Than Revenge \\n\\t\\t\\t\\t ( 3 )', 'Blank Space', 'Breathe \\n\\t\\t\\t\\t ( 2 )', 'Change \\n\\t\\t\\t\\t ( 2 )', 'Change Music Video', 'Clean', 'CMT Awards &#34;Thug Story&#34;', 'Cold As You', 'Come In With The Rain', 'Dean John \\n\\t\\t\\t\\t ( 2 )', 'Dear John', 'Drops of Jupiter \\n\\t\\t\\t\\t ( 2 )', 'Enchanted \\n\\t\\t\\t\\t ( 3 )', 'Everything Has Changed', 'Fearless \\n\\t\\t\\t\\t ( 2 )', 'Fearless 2009 Tour Behind the Scenes at the First Show!', 'Fearless Tour 2009 Photo Gallery', \"Fearless/I'm Yours/Hey Soul Sister\", 'Fifteen \\n\\t\\t\\t\\t ( 3 )', 'Forever & Always \\n\\t\\t\\t\\t ( 2 )', 'Forever & Always (Piano Version)', 'Haunted \\n\\t\\t\\t\\t ( 3 )', 'Hey Stephen \\n\\t\\t\\t\\t ( 2 )', 'Holy Ground', 'How You Get The Girl', 'I Almost Do', 'I Knew You Were Trouble.', 'I Know Places', 'I Want You Back', 'I Wish You Would', 'Innocent', 'Jump Then Fall', 'Last Kiss \\n\\t\\t\\t\\t ( 3 )', 'Long Live \\n\\t\\t\\t\\t ( 3 )', 'Love Story \\n\\t\\t\\t\\t ( 2 )', 'Love Story Music Video', 'Love Story On The Set Behind the Scenes', 'Love StoryBonus Video Content includes Home Movies & Rehearsals of the Speak Now World TourTrack lis', \"Mary's Song (Oh My My My)\", 'Mean \\n\\t\\t\\t\\t ( 3 )', 'Mine \\n\\t\\t\\t\\t ( 3 )', 'Never Grow Up', 'Our Song \\n\\t\\t\\t\\t ( 2 )', 'Ours', 'Out Of The Woods', 'Picture to Burn', 'Red', 'Sad Beautiful Tragic', 'Shake It Off', \"Should've Said No\", 'Sparks Fly \\n\\t\\t\\t\\t ( 3 )', 'Speak Now \\n\\t\\t\\t\\t ( 3 )', 'Starlight', 'State Of Grace', 'Stay Beautiful', 'Stay Stay Stay', 'Style', 'SuperStar', 'Teardrops on My Guitar', 'Tell Me Why \\n\\t\\t\\t\\t ( 2 )', 'The Best Day \\n\\t\\t\\t\\t ( 2 )', 'The Best Day Music Video', 'The Last Time', 'The Lucky One', 'The Other Side Of The Door', 'The Outside', 'The Story of Us \\n\\t\\t\\t\\t ( 3 )', 'The Way I Loved You \\n\\t\\t\\t\\t ( 2 )', 'This Love', 'Tied Together With a Smile', 'Tim McGraw', 'Treacherous', 'Untouchable', 'We Are Never Ever Getting Back Together', 'Welcome To New York', 'White Horse \\n\\t\\t\\t\\t ( 2 )', 'White Horse Music Video', 'White Horse On The Set Behind the Scenes', 'Wildest Dreams', 'You Belong With Me \\n\\t\\t\\t\\t ( 3 )', 'You Belong With Me Music Video', 'You Belong With Me On The Set Behind the Scenes', \"You're Not Sorry \\n\\t\\t\\t\\t ( 2 )\"], 'linkinpark': ['1stp Klosr - Jonathan Davis Humble Brothers', 'A LIGHT THAT NEVER COMES', 'A LIGHT THAT NEVER COMES (Rick Rubin Reboot)', 'A Line In The Sand', 'A Place for My Head', 'All For Nothing', 'Battle Symphony', \"Big Pimpin'/Papercut\", 'Blackout', 'Bleed It Out \\n\\t\\t\\t\\t ( 2 )', 'Bleed It Out(DVD)', 'Breaking The Habit \\n\\t\\t\\t\\t ( 2 )', 'Breaking the Habit(DVD)', 'BURN IT DOWN \\n\\t\\t\\t\\t ( 2 )', 'Burning In The Skies', 'By Myself', 'By_Myslf - Josh Abraham Mike Shinoda', 'CASTLE OF GLASS \\n\\t\\t\\t\\t ( 2 )', 'Chali', 'Crawling \\n\\t\\t\\t\\t ( 3 )', 'Crawling(DVD)', 'Cure for the Itch', 'Dirt Off Your Shoulder/Lying from You', \"Don't Stay\", 'Drawbar', 'Easier To Run', 'Empty Spaces', 'Enth E Nd - Motion Man', 'Faint \\n\\t\\t\\t\\t ( 2 )', 'Fallout', 'Figure.09', 'Final Masquerade', 'Foreword', 'Forgotten', 'Frgt/10 - The Alchemist Chali 2na', 'From The Inside \\n\\t\\t\\t\\t ( 3 )', 'From The Inside(DVD)', 'Given Up \\n\\t\\t\\t\\t ( 2 )', 'Given Up(DVD)', 'Good Goodbye', 'H! Vltg3 - DJ Babu Evidence Pharoahe Monch', 'Halfway Right', 'Hands Held High \\n\\t\\t\\t\\t ( 2 )', 'Hands Held High(DVD)', 'Heavy', 'Hit The Floor', \"I'LL BE GONE \\n\\t\\t\\t\\t ( 3 )\", 'In Between', 'IN MY REMAINS', 'In Pieces', 'In the End \\n\\t\\t\\t\\t ( 3 )', 'In the End(DVD)', 'Invisible', 'Iridescent', 'Izzo/In the End', 'Jigga What/Faint \\n\\t\\t\\t\\t ( 2 )', 'Jigga What/Faint(DVD)', 'Jornada Del Muerto', 'Keys To The Kingdom', 'Krwlng - Aaron Lewis Mike Shinoda', 'Kyur4 Th Ich', 'Leave Out All The Rest \\n\\t\\t\\t\\t ( 2 )', 'Leave Out All the Rest(DVD)', 'LIES GREED MISERY \\n\\t\\t\\t\\t ( 2 )', 'LOST IN THE ECHO \\n\\t\\t\\t\\t ( 2 )', 'Lying From You \\n\\t\\t\\t\\t ( 3 )', 'Lying From You(DVD)', 'Mark The Graves', 'My<Dsmbr - Kelli Ali Mickey P.', 'No More Sorrow \\n\\t\\t\\t\\t ( 2 )', 'No More Sorrow(DVD)', 'Nobody Can Save Me', \"Nobody's Listening\", 'Ntr\\\\Mssion - Mike Shinoda', 'Numb \\n\\t\\t\\t\\t ( 3 )', 'Numb(DVD)', 'Numb/Encore \\n\\t\\t\\t\\t ( 2 )', 'Numb/Encore(DVD)', 'One More Light', 'One Step Closer \\n\\t\\t\\t\\t ( 3 )', 'One Step Closer(DVD)', 'Opening - Mike Shinoda', 'P5hng Me A*wy - Stephen Richards Mike Shinoda \\n\\t\\t\\t\\t ( 2 )', 'Papercut \\n\\t\\t\\t\\t ( 2 )', 'Plc. 4 Mie HÃ¦d - Amp Live', 'Points Of Authority \\n\\t\\t\\t\\t ( 2 )', 'Points of Authority/99 Problems/One Step Closer', 'POWERLESS \\n\\t\\t\\t\\t ( 2 )', 'Ppr: Kut - Cheapshot & Jubacca  Jubacca', 'Pts. of Athrty', 'Pushing Me Away \\n\\t\\t\\t\\t ( 2 )', 'Pushing Me Away(DVD)', 'Rebellion', 'Riff Raff', 'Rnw@y - Backyard Bangers Phoenix Orion', 'ROADS UNTRAVELED \\n\\t\\t\\t\\t ( 2 )', 'Robot Boy', 'Runaway \\n\\t\\t\\t\\t ( 2 )', 'Session', 'Shadow Of The Day \\n\\t\\t\\t\\t ( 2 )', 'Shadow of the Day(DVD)', 'Sharp Edges', 'SKIN TO BONE \\n\\t\\t\\t\\t ( 2 )', 'Somewhere I Belong \\n\\t\\t\\t\\t ( 2 )', 'Sorry for Now', 'Stef', 'Talking to Myself', 'The Catalyst', 'The Little Things Give You Away \\n\\t\\t\\t\\t ( 2 )', 'The Little Things Give You Away(DVD)', 'The Messenger', 'The Radiance', 'The Requiem', 'The Summoning', 'TINFOIL', 'UNTIL IT BREAKS \\n\\t\\t\\t\\t ( 3 )', \"Until It's Gone\", \"Valentine's Day\", 'VICTIMIZED \\n\\t\\t\\t\\t ( 2 )', 'Waiting For The End', 'Wake', 'Wake(DVD)', 'War', 'Wastelands', \"What I've Done \\n\\t\\t\\t\\t ( 2 )\", \"What I've Done(DVD)\", 'When They Come For Me', 'Wisdom Justice And Love', 'With You', 'Wretches And Kings', 'Wth>You - Aceyalone', 'X-Ecutioner Style - Black Thought'], 'drake-2': ['10 Bands', '305 To My City ft. Detail', '4422 ft. Sampha', '6 God', '6 Man', '6PM In New York', 'All Me ft. 2 Chainz and Big Sean', 'Best I Ever Had', 'Blem', 'Calm', 'Cameras / Good Ones Go Interlude', 'Can t Have Everything', \"Cece's Interlude\", 'Come Thru', 'Company', 'Connect', 'Crew Love', 'Do Not Disturb', 'Doing It Wrong', 'Energy', 'Fake Love', 'Fancy', 'Fear', 'Find Your Love', 'Fireworks', 'Free Smoke', 'From Time ft. Jhene Aiko', 'Furthest Thing', 'Get It Together ft. Black Coffee & Jorja Smith', 'Glow ft. Kanye West', 'Gyalchester', 'Headlines', \"Hold On We're Going Home ft. Majid Jordan\", 'Houstatlantavegas', 'How About Now', 'HYFR', \"I'm Goin In\", 'Ice Melts ft. Young Thug', 'Jorja Interlude', 'Jungle', 'Karaoke', 'KMT ft. Giggs', 'Know Yourself', 'Legend', 'Light Up', \"Look What You've Done\", 'Lord Knows', 'Lose You', 'Madiba Riddim', 'Madonna', 'Make Me Proud', 'Marvins Room / Buried Alive Interlude', 'Miss Me', 'My Side', 'No Long Talk ft. Giggs', \"No Tellin'\", 'Nothings Into Somethings', 'Now & Forever', 'Over', 'Over My Dead Body', 'Own It', 'Passionfruit', 'Portland ft. Quavo & Travi$ Scott', 'Pound Cake / Paris Morton Music 2 ft. Jay-Z', 'Practice', 'Preach', 'Sacrifices ft. 2 Chainz & Young Thug', 'Shot For Me', 'Show Me A Good Time', 'Shut It Down', 'Since Way Back ft. PARTYNEXTDOOR', 'Skepta Interlude', 'Star67', 'Started From the Bottom', 'Successful', 'Take Care', 'Teenage Fever', 'Thank Me Now', 'The Language', 'The Real Her', 'The Resistance', 'The Ride', 'Too Much ft. Sampha', 'Tuscan Leather', 'Underground Kings', 'Unforgettable', 'Up All Night', 'Uptown', 'Used To', \"We'll Be Fine\", 'Wednesday Night Interlude', 'Worst Behavior', 'Wu-Tang Forever', 'You & The 6']}\n"
     ]
    }
   ],
   "source": [
    "with open(json_file) as f:\n",
    "    a = json.load(f)\n",
    "    print(a)"
   ]
  }
 ],
 "metadata": {
  "kernelspec": {
   "display_name": "Python 3",
   "language": "python",
   "name": "python3"
  },
  "language_info": {
   "codemirror_mode": {
    "name": "ipython",
    "version": 3
   },
   "file_extension": ".py",
   "mimetype": "text/x-python",
   "name": "python",
   "nbconvert_exporter": "python",
   "pygments_lexer": "ipython3",
   "version": "3.6.6"
  }
 },
 "nbformat": 4,
 "nbformat_minor": 2
}
